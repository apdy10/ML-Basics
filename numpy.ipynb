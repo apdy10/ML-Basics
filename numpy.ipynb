{
  "nbformat": 4,
  "nbformat_minor": 0,
  "metadata": {
    "colab": {
      "name": "numpy.ipynb",
      "provenance": [],
      "toc_visible": true,
      "authorship_tag": "ABX9TyPLapSBGvK87CrDTbO7+9EL",
      "include_colab_link": true
    },
    "kernelspec": {
      "name": "python3",
      "display_name": "Python 3"
    },
    "language_info": {
      "name": "python"
    }
  },
  "cells": [
    {
      "cell_type": "markdown",
      "metadata": {
        "id": "view-in-github",
        "colab_type": "text"
      },
      "source": [
        "<a href=\"https://colab.research.google.com/github/apdy10/ML-Basics/blob/main/numpy.ipynb\" target=\"_parent\"><img src=\"https://colab.research.google.com/assets/colab-badge.svg\" alt=\"Open In Colab\"/></a>"
      ]
    },
    {
      "cell_type": "code",
      "execution_count": 2,
      "metadata": {
        "id": "SbBSuznLZlCW"
      },
      "outputs": [],
      "source": [
        "my_list = [1,2,3]\n"
      ]
    },
    {
      "cell_type": "code",
      "source": [
        "import numpy as np"
      ],
      "metadata": {
        "id": "nFkqCtCtclty"
      },
      "execution_count": 3,
      "outputs": []
    },
    {
      "cell_type": "code",
      "source": [
        "arr = np.array(my_list)\n",
        "arr"
      ],
      "metadata": {
        "colab": {
          "base_uri": "https://localhost:8080/"
        },
        "id": "izzsCnaQcooK",
        "outputId": "1e64cefb-5b26-439f-c3ac-a8c6c8bde229"
      },
      "execution_count": 4,
      "outputs": [
        {
          "output_type": "execute_result",
          "data": {
            "text/plain": [
              "array([1, 2, 3])"
            ]
          },
          "metadata": {},
          "execution_count": 4
        }
      ]
    },
    {
      "cell_type": "code",
      "source": [
        "my_mat = [[1,2,3],[4,5,6],[7,8,9]]     #List of Lists\n",
        "\n",
        "my_mat"
      ],
      "metadata": {
        "colab": {
          "base_uri": "https://localhost:8080/"
        },
        "id": "dDWc5tZ_dcJe",
        "outputId": "c45b50f6-e1ab-4648-e8e4-017b4d5fbe29"
      },
      "execution_count": 5,
      "outputs": [
        {
          "output_type": "execute_result",
          "data": {
            "text/plain": [
              "[[1, 2, 3], [4, 5, 6], [7, 8, 9]]"
            ]
          },
          "metadata": {},
          "execution_count": 5
        }
      ]
    },
    {
      "cell_type": "code",
      "source": [
        "np.array(my_mat)"
      ],
      "metadata": {
        "colab": {
          "base_uri": "https://localhost:8080/"
        },
        "id": "QcGIFfCcd-EK",
        "outputId": "76f66d4b-5f43-47e7-86a3-f2f766ba267a"
      },
      "execution_count": 6,
      "outputs": [
        {
          "output_type": "execute_result",
          "data": {
            "text/plain": [
              "array([[1, 2, 3],\n",
              "       [4, 5, 6],\n",
              "       [7, 8, 9]])"
            ]
          },
          "metadata": {},
          "execution_count": 6
        }
      ]
    },
    {
      "cell_type": "markdown",
      "source": [
        "2 square brackets shows that this is an 2-d array:"
      ],
      "metadata": {
        "id": "xYde__GleX25"
      }
    },
    {
      "cell_type": "markdown",
      "source": [
        "# Python built-in methods to make array"
      ],
      "metadata": {
        "id": "1o7bRExZer7V"
      }
    },
    {
      "cell_type": "markdown",
      "source": [
        "**1. np.arange(s,e,w)**:-  s(start), e(end), w(step size)\n",
        "\n",
        "\n",
        "arange is a widely used function to quickly create an array. Passing a value 20 to the arange function creates an array with values ranging from 0 to 19."
      ],
      "metadata": {
        "id": "TADLrEHpfWxW"
      }
    },
    {
      "cell_type": "code",
      "source": [
        "np.arange(10)"
      ],
      "metadata": {
        "colab": {
          "base_uri": "https://localhost:8080/"
        },
        "id": "53jWc-spuh_G",
        "outputId": "92909263-e0a9-408b-89ac-65ebc23f9423"
      },
      "execution_count": 7,
      "outputs": [
        {
          "output_type": "execute_result",
          "data": {
            "text/plain": [
              "array([0, 1, 2, 3, 4, 5, 6, 7, 8, 9])"
            ]
          },
          "metadata": {},
          "execution_count": 7
        }
      ]
    },
    {
      "cell_type": "markdown",
      "source": [
        "If we only use the arange function, it will output a one-dimensional array. To make it a two-dimensional array, chain its output with the reshape function."
      ],
      "metadata": {
        "id": "8HErru7LvL9k"
      }
    },
    {
      "cell_type": "code",
      "source": [
        "ar = np.arange(20).reshape(4,5)\n",
        "ar"
      ],
      "metadata": {
        "colab": {
          "base_uri": "https://localhost:8080/"
        },
        "id": "I36odfGwvP0O",
        "outputId": "b22cc0c9-ce37-480c-c7e1-a145c126c7d1"
      },
      "execution_count": 8,
      "outputs": [
        {
          "output_type": "execute_result",
          "data": {
            "text/plain": [
              "array([[ 0,  1,  2,  3,  4],\n",
              "       [ 5,  6,  7,  8,  9],\n",
              "       [10, 11, 12, 13, 14],\n",
              "       [15, 16, 17, 18, 19]])"
            ]
          },
          "metadata": {},
          "execution_count": 8
        }
      ]
    },
    {
      "cell_type": "code",
      "source": [
        "np.arange(0,10)"
      ],
      "metadata": {
        "colab": {
          "base_uri": "https://localhost:8080/"
        },
        "id": "BD3EImCIe15y",
        "outputId": "e32b755c-5b8a-4df7-8b00-66bdf2dbebaa"
      },
      "execution_count": 9,
      "outputs": [
        {
          "output_type": "execute_result",
          "data": {
            "text/plain": [
              "array([0, 1, 2, 3, 4, 5, 6, 7, 8, 9])"
            ]
          },
          "metadata": {},
          "execution_count": 9
        }
      ]
    },
    {
      "cell_type": "code",
      "source": [
        "np.arange(0,10,2)"
      ],
      "metadata": {
        "colab": {
          "base_uri": "https://localhost:8080/"
        },
        "id": "JtQFUF99e-jW",
        "outputId": "77a9d7df-f212-4aa6-d307-2083a8bffa91"
      },
      "execution_count": 10,
      "outputs": [
        {
          "output_type": "execute_result",
          "data": {
            "text/plain": [
              "array([0, 2, 4, 6, 8])"
            ]
          },
          "metadata": {},
          "execution_count": 10
        }
      ]
    },
    {
      "cell_type": "markdown",
      "source": [
        "**2. All zeros array**"
      ],
      "metadata": {
        "id": "7N4CD0G1fsdh"
      }
    },
    {
      "cell_type": "code",
      "source": [
        "np.zeros(3)"
      ],
      "metadata": {
        "colab": {
          "base_uri": "https://localhost:8080/"
        },
        "id": "kcPC7nulf30v",
        "outputId": "51ccdfdb-b9d8-410c-f061-2f1f7b775c6a"
      },
      "execution_count": 11,
      "outputs": [
        {
          "output_type": "execute_result",
          "data": {
            "text/plain": [
              "array([0., 0., 0.])"
            ]
          },
          "metadata": {},
          "execution_count": 11
        }
      ]
    },
    {
      "cell_type": "code",
      "source": [
        "np.zeros((2,3))"
      ],
      "metadata": {
        "colab": {
          "base_uri": "https://localhost:8080/"
        },
        "id": "CjemeHjRgYEs",
        "outputId": "b2d235ad-406e-4241-d480-fdf3f3d7577e"
      },
      "execution_count": 12,
      "outputs": [
        {
          "output_type": "execute_result",
          "data": {
            "text/plain": [
              "array([[0., 0., 0.],\n",
              "       [0., 0., 0.]])"
            ]
          },
          "metadata": {},
          "execution_count": 12
        }
      ]
    },
    {
      "cell_type": "markdown",
      "source": [
        "**3. All ones Array**"
      ],
      "metadata": {
        "id": "aEEyUVfRgkTm"
      }
    },
    {
      "cell_type": "code",
      "source": [
        "np.ones(4)"
      ],
      "metadata": {
        "colab": {
          "base_uri": "https://localhost:8080/"
        },
        "id": "AVg8JTosgoan",
        "outputId": "32774670-bb53-40ba-d4f3-e0319c9d21fd"
      },
      "execution_count": 13,
      "outputs": [
        {
          "output_type": "execute_result",
          "data": {
            "text/plain": [
              "array([1., 1., 1., 1.])"
            ]
          },
          "metadata": {},
          "execution_count": 13
        }
      ]
    },
    {
      "cell_type": "code",
      "source": [
        "np.ones((3,4))"
      ],
      "metadata": {
        "colab": {
          "base_uri": "https://localhost:8080/"
        },
        "id": "g3CgNWPCgvAi",
        "outputId": "140df828-7da4-42ac-b5d4-a02def71cf9f"
      },
      "execution_count": 14,
      "outputs": [
        {
          "output_type": "execute_result",
          "data": {
            "text/plain": [
              "array([[1., 1., 1., 1.],\n",
              "       [1., 1., 1., 1.],\n",
              "       [1., 1., 1., 1.]])"
            ]
          },
          "metadata": {},
          "execution_count": 14
        }
      ]
    },
    {
      "cell_type": "markdown",
      "source": [
        "**Linspace** :- take start and end the third argument is no. of evenly spaced points we want between those points"
      ],
      "metadata": {
        "id": "4-NwIGVQg5Lv"
      }
    },
    {
      "cell_type": "code",
      "source": [
        "np.linspace(0,5,20)"
      ],
      "metadata": {
        "colab": {
          "base_uri": "https://localhost:8080/"
        },
        "id": "c5EnMxpbhnEU",
        "outputId": "1d699f30-a073-4a7b-b6f9-e4d3f8695c79"
      },
      "execution_count": 15,
      "outputs": [
        {
          "output_type": "execute_result",
          "data": {
            "text/plain": [
              "array([0.        , 0.26315789, 0.52631579, 0.78947368, 1.05263158,\n",
              "       1.31578947, 1.57894737, 1.84210526, 2.10526316, 2.36842105,\n",
              "       2.63157895, 2.89473684, 3.15789474, 3.42105263, 3.68421053,\n",
              "       3.94736842, 4.21052632, 4.47368421, 4.73684211, 5.        ])"
            ]
          },
          "metadata": {},
          "execution_count": 15
        }
      ]
    },
    {
      "cell_type": "markdown",
      "source": [
        "**4. Identity matrix**: A 2-d square matrix, number of rows = number of columns with diagonal elements 1 and other elements being 0"
      ],
      "metadata": {
        "id": "iBUzIpMGiMQm"
      }
    },
    {
      "cell_type": "code",
      "source": [
        "np.eye(4)"
      ],
      "metadata": {
        "colab": {
          "base_uri": "https://localhost:8080/"
        },
        "id": "Cyz_K9PriqYb",
        "outputId": "2baa9a4e-39d2-4031-ba25-89cb8ae1a3da"
      },
      "execution_count": 16,
      "outputs": [
        {
          "output_type": "execute_result",
          "data": {
            "text/plain": [
              "array([[1., 0., 0., 0.],\n",
              "       [0., 1., 0., 0.],\n",
              "       [0., 0., 1., 0.],\n",
              "       [0., 0., 0., 1.]])"
            ]
          },
          "metadata": {},
          "execution_count": 16
        }
      ]
    },
    {
      "cell_type": "markdown",
      "source": [
        "# Creating Random Number Arrays"
      ],
      "metadata": {
        "id": "qq8gefbxjvHC"
      }
    },
    {
      "cell_type": "markdown",
      "source": [
        "**np.random.rand()** :- Random numbers form uniform distribution from 0 to 1"
      ],
      "metadata": {
        "id": "kWUpjo2Yk1Y-"
      }
    },
    {
      "cell_type": "code",
      "source": [
        "np.random.rand(5)"
      ],
      "metadata": {
        "colab": {
          "base_uri": "https://localhost:8080/"
        },
        "id": "L7a8Sg3Sj1xm",
        "outputId": "b8ce4de2-30bd-4d08-8430-b88567e2fe92"
      },
      "execution_count": 17,
      "outputs": [
        {
          "output_type": "execute_result",
          "data": {
            "text/plain": [
              "array([0.94077895, 0.50690589, 0.53031771, 0.61105407, 0.04549639])"
            ]
          },
          "metadata": {},
          "execution_count": 17
        }
      ]
    },
    {
      "cell_type": "code",
      "source": [
        "np.random.rand(5,5)                           # Not tuples as an argument"
      ],
      "metadata": {
        "colab": {
          "base_uri": "https://localhost:8080/"
        },
        "id": "TLc7ioYMkHVW",
        "outputId": "2ffeb393-3076-4c22-e90d-fbd444999936"
      },
      "execution_count": 18,
      "outputs": [
        {
          "output_type": "execute_result",
          "data": {
            "text/plain": [
              "array([[0.17374192, 0.13666661, 0.71002355, 0.73714756, 0.23178267],\n",
              "       [0.48088566, 0.91018322, 0.21546283, 0.52215497, 0.85804142],\n",
              "       [0.48918205, 0.81881442, 0.78422274, 0.22618433, 0.23644463],\n",
              "       [0.63653238, 0.02580976, 0.43917741, 0.33133575, 0.19367402],\n",
              "       [0.51354821, 0.30189191, 0.51297133, 0.43340679, 0.52543868]])"
            ]
          },
          "metadata": {},
          "execution_count": 18
        }
      ]
    },
    {
      "cell_type": "markdown",
      "source": [
        "**np.random.randn()** :- Random numbers not from the uniform distribution from 0 to 1 but from the standard normal distribution centered around 0"
      ],
      "metadata": {
        "id": "et2oeyXLkdUs"
      }
    },
    {
      "cell_type": "code",
      "source": [
        "np.random.randn(5)"
      ],
      "metadata": {
        "colab": {
          "base_uri": "https://localhost:8080/"
        },
        "id": "qUO7dJlzlGyZ",
        "outputId": "4f18b026-cc32-41a7-f3c0-bd50dbed07e5"
      },
      "execution_count": 19,
      "outputs": [
        {
          "output_type": "execute_result",
          "data": {
            "text/plain": [
              "array([ 1.34693686, -0.87077448, -1.17907667, -2.17311517, -0.07719729])"
            ]
          },
          "metadata": {},
          "execution_count": 19
        }
      ]
    },
    {
      "cell_type": "code",
      "source": [
        "np.random.randn(5,5)"
      ],
      "metadata": {
        "colab": {
          "base_uri": "https://localhost:8080/"
        },
        "id": "kum-ZGUzlZ5u",
        "outputId": "d6315960-f094-4b40-af3b-f3654bce2388"
      },
      "execution_count": 20,
      "outputs": [
        {
          "output_type": "execute_result",
          "data": {
            "text/plain": [
              "array([[ 1.47640655,  0.26721978,  0.54954536,  1.18424939,  0.2149241 ],\n",
              "       [ 0.68892386,  0.9272935 ,  0.43721284,  0.50352836,  1.00142444],\n",
              "       [-0.09127852, -1.21163944,  0.07905526, -0.05082753,  0.12757426],\n",
              "       [-1.14805385,  0.66084417, -2.11131979, -2.31497428, -0.05694096],\n",
              "       [-0.74287706, -1.17936625,  0.66567139,  1.57596419,  3.51877808]])"
            ]
          },
          "metadata": {},
          "execution_count": 20
        }
      ]
    },
    {
      "cell_type": "markdown",
      "source": [
        "**np.random.randint()** :- randint(low,high,size)\n",
        "\n",
        "generates random integer between low and high(low is inclusive and high is exclusive) third argument size gives no. of integers we want between them"
      ],
      "metadata": {
        "id": "9yXupReUltqc"
      }
    },
    {
      "cell_type": "code",
      "source": [
        "np.random.randint(1,10) #default size is 1"
      ],
      "metadata": {
        "colab": {
          "base_uri": "https://localhost:8080/"
        },
        "id": "4uNJgq9smNY5",
        "outputId": "d1654f99-2717-4a88-830c-bedae9773295"
      },
      "execution_count": 21,
      "outputs": [
        {
          "output_type": "execute_result",
          "data": {
            "text/plain": [
              "6"
            ]
          },
          "metadata": {},
          "execution_count": 21
        }
      ]
    },
    {
      "cell_type": "code",
      "source": [
        "np.random.randint(1,100,5)"
      ],
      "metadata": {
        "colab": {
          "base_uri": "https://localhost:8080/"
        },
        "id": "XzDTodWoma16",
        "outputId": "0d5aa764-b49a-42ac-c90a-a27228f10aac"
      },
      "execution_count": 22,
      "outputs": [
        {
          "output_type": "execute_result",
          "data": {
            "text/plain": [
              "array([ 2, 84, 89,  2, 44])"
            ]
          },
          "metadata": {},
          "execution_count": 22
        }
      ]
    },
    {
      "cell_type": "markdown",
      "source": [
        "**Concept of Reshaping**"
      ],
      "metadata": {
        "id": "TDoHSQxCNARz"
      }
    },
    {
      "cell_type": "code",
      "source": [
        "arr = np.arange(25)\n",
        "arr"
      ],
      "metadata": {
        "colab": {
          "base_uri": "https://localhost:8080/"
        },
        "id": "lPci9vjQNEW3",
        "outputId": "d5eb6621-0a4d-4689-a42f-37a9dbe532fd"
      },
      "execution_count": 23,
      "outputs": [
        {
          "output_type": "execute_result",
          "data": {
            "text/plain": [
              "array([ 0,  1,  2,  3,  4,  5,  6,  7,  8,  9, 10, 11, 12, 13, 14, 15, 16,\n",
              "       17, 18, 19, 20, 21, 22, 23, 24])"
            ]
          },
          "metadata": {},
          "execution_count": 23
        }
      ]
    },
    {
      "cell_type": "code",
      "source": [
        "rearr = np.random.randint(0,50,10)\n",
        "rearr"
      ],
      "metadata": {
        "colab": {
          "base_uri": "https://localhost:8080/"
        },
        "id": "rrL7vT8WNL6o",
        "outputId": "f40351b3-1254-4603-acf4-d97d52f05c15"
      },
      "execution_count": 24,
      "outputs": [
        {
          "output_type": "execute_result",
          "data": {
            "text/plain": [
              "array([ 7, 35, 28, 32, 42,  0, 42, 11, 27, 29])"
            ]
          },
          "metadata": {},
          "execution_count": 24
        }
      ]
    },
    {
      "cell_type": "code",
      "source": [
        "arr.reshape(5,5)"
      ],
      "metadata": {
        "colab": {
          "base_uri": "https://localhost:8080/"
        },
        "id": "lm_25l89NWQN",
        "outputId": "051cbae2-60ee-45c7-fdad-ae33fba57424"
      },
      "execution_count": 25,
      "outputs": [
        {
          "output_type": "execute_result",
          "data": {
            "text/plain": [
              "array([[ 0,  1,  2,  3,  4],\n",
              "       [ 5,  6,  7,  8,  9],\n",
              "       [10, 11, 12, 13, 14],\n",
              "       [15, 16, 17, 18, 19],\n",
              "       [20, 21, 22, 23, 24]])"
            ]
          },
          "metadata": {},
          "execution_count": 25
        }
      ]
    },
    {
      "cell_type": "code",
      "source": [
        "rearr"
      ],
      "metadata": {
        "colab": {
          "base_uri": "https://localhost:8080/"
        },
        "id": "6SkHJcWXyHv1",
        "outputId": "3cc81573-9279-4eb7-fd8e-9b568c30b51a"
      },
      "execution_count": 26,
      "outputs": [
        {
          "output_type": "execute_result",
          "data": {
            "text/plain": [
              "array([ 7, 35, 28, 32, 42,  0, 42, 11, 27, 29])"
            ]
          },
          "metadata": {},
          "execution_count": 26
        }
      ]
    },
    {
      "cell_type": "code",
      "source": [
        "rearr.max()"
      ],
      "metadata": {
        "colab": {
          "base_uri": "https://localhost:8080/"
        },
        "id": "7GX7zzLTye6a",
        "outputId": "34b99565-3319-40ef-f40c-b86ca1e14c05"
      },
      "execution_count": 27,
      "outputs": [
        {
          "output_type": "execute_result",
          "data": {
            "text/plain": [
              "42"
            ]
          },
          "metadata": {},
          "execution_count": 27
        }
      ]
    },
    {
      "cell_type": "code",
      "source": [
        "rearr.min()"
      ],
      "metadata": {
        "colab": {
          "base_uri": "https://localhost:8080/"
        },
        "id": "xFD0gRr9yhRy",
        "outputId": "4cbb504d-4b14-4d45-893d-391695304bf4"
      },
      "execution_count": 28,
      "outputs": [
        {
          "output_type": "execute_result",
          "data": {
            "text/plain": [
              "0"
            ]
          },
          "metadata": {},
          "execution_count": 28
        }
      ]
    },
    {
      "cell_type": "markdown",
      "source": [
        "We can also find the index value at which minimum and maximum value is present using argmax() and argmin()"
      ],
      "metadata": {
        "id": "qyjNi2IFykA2"
      }
    },
    {
      "cell_type": "code",
      "source": [
        "rearr.argmax()"
      ],
      "metadata": {
        "colab": {
          "base_uri": "https://localhost:8080/"
        },
        "id": "qjYmc3LCyuV_",
        "outputId": "f02f3330-67c5-4f7c-f621-64165d49ecfd"
      },
      "execution_count": 29,
      "outputs": [
        {
          "output_type": "execute_result",
          "data": {
            "text/plain": [
              "4"
            ]
          },
          "metadata": {},
          "execution_count": 29
        }
      ]
    },
    {
      "cell_type": "code",
      "source": [
        "rearr.argmin()"
      ],
      "metadata": {
        "colab": {
          "base_uri": "https://localhost:8080/"
        },
        "id": "gzSHBxS_y2Mz",
        "outputId": "66146bf6-4fe4-43d9-c92e-2d491e507582"
      },
      "execution_count": 30,
      "outputs": [
        {
          "output_type": "execute_result",
          "data": {
            "text/plain": [
              "5"
            ]
          },
          "metadata": {},
          "execution_count": 30
        }
      ]
    },
    {
      "cell_type": "code",
      "source": [
        "arr.shape"
      ],
      "metadata": {
        "colab": {
          "base_uri": "https://localhost:8080/"
        },
        "id": "AHh2c53cy6lf",
        "outputId": "d7f70e30-8d48-4598-d2e1-42b2f9255e32"
      },
      "execution_count": 31,
      "outputs": [
        {
          "output_type": "execute_result",
          "data": {
            "text/plain": [
              "(25,)"
            ]
          },
          "metadata": {},
          "execution_count": 31
        }
      ]
    },
    {
      "cell_type": "code",
      "source": [
        "arr = arr.reshape(5,5)"
      ],
      "metadata": {
        "id": "LCWGjP1hzHkL"
      },
      "execution_count": 32,
      "outputs": []
    },
    {
      "cell_type": "code",
      "source": [
        "arr.shape"
      ],
      "metadata": {
        "colab": {
          "base_uri": "https://localhost:8080/"
        },
        "id": "SQZHHjTJzK_l",
        "outputId": "f36c4538-7673-48a7-c9f4-5a5d5c6537cc"
      },
      "execution_count": 33,
      "outputs": [
        {
          "output_type": "execute_result",
          "data": {
            "text/plain": [
              "(5, 5)"
            ]
          },
          "metadata": {},
          "execution_count": 33
        }
      ]
    },
    {
      "cell_type": "code",
      "source": [
        "arr"
      ],
      "metadata": {
        "colab": {
          "base_uri": "https://localhost:8080/"
        },
        "id": "hfxF4UifzPSt",
        "outputId": "e8174dd6-9bbd-4735-8da7-3ef7c30fb9dc"
      },
      "execution_count": 34,
      "outputs": [
        {
          "output_type": "execute_result",
          "data": {
            "text/plain": [
              "array([[ 0,  1,  2,  3,  4],\n",
              "       [ 5,  6,  7,  8,  9],\n",
              "       [10, 11, 12, 13, 14],\n",
              "       [15, 16, 17, 18, 19],\n",
              "       [20, 21, 22, 23, 24]])"
            ]
          },
          "metadata": {},
          "execution_count": 34
        }
      ]
    },
    {
      "cell_type": "code",
      "source": [
        "arr.dtype"
      ],
      "metadata": {
        "colab": {
          "base_uri": "https://localhost:8080/"
        },
        "id": "cSYc2CN9zRg4",
        "outputId": "2ef31330-ed0c-4200-be70-aafaa092be94"
      },
      "execution_count": 35,
      "outputs": [
        {
          "output_type": "execute_result",
          "data": {
            "text/plain": [
              "dtype('int64')"
            ]
          },
          "metadata": {},
          "execution_count": 35
        }
      ]
    },
    {
      "cell_type": "markdown",
      "source": [
        "Instead of using np.random.randint() we can also import and then use it as seen below"
      ],
      "metadata": {
        "id": "nhU2m95kzn_A"
      }
    },
    {
      "cell_type": "code",
      "source": [
        "from numpy.random import randint"
      ],
      "metadata": {
        "id": "VWjX_lF6z5gP"
      },
      "execution_count": 36,
      "outputs": []
    },
    {
      "cell_type": "code",
      "source": [
        "randint(2,10)"
      ],
      "metadata": {
        "colab": {
          "base_uri": "https://localhost:8080/"
        },
        "id": "S0q3mVPmz-VF",
        "outputId": "362925de-7e2b-4a82-e435-f477c2547670"
      },
      "execution_count": 37,
      "outputs": [
        {
          "output_type": "execute_result",
          "data": {
            "text/plain": [
              "9"
            ]
          },
          "metadata": {},
          "execution_count": 37
        }
      ]
    },
    {
      "cell_type": "markdown",
      "source": [
        "# Numpy array indexing\n",
        "\n",
        "Index starts from 0"
      ],
      "metadata": {
        "id": "_yImcr1w0S_Q"
      }
    },
    {
      "cell_type": "code",
      "source": [
        "import numpy as np"
      ],
      "metadata": {
        "id": "lOvvRiMR_zgt"
      },
      "execution_count": 38,
      "outputs": []
    },
    {
      "cell_type": "code",
      "source": [
        "arr = np.arange(0,11)\n",
        "\n",
        "arr"
      ],
      "metadata": {
        "colab": {
          "base_uri": "https://localhost:8080/"
        },
        "id": "vGpYlNVk_2Nl",
        "outputId": "bdffc3a1-5cd2-4120-e60c-a9f3d350aaa8"
      },
      "execution_count": 39,
      "outputs": [
        {
          "output_type": "execute_result",
          "data": {
            "text/plain": [
              "array([ 0,  1,  2,  3,  4,  5,  6,  7,  8,  9, 10])"
            ]
          },
          "metadata": {},
          "execution_count": 39
        }
      ]
    },
    {
      "cell_type": "code",
      "source": [
        "arr[8]"
      ],
      "metadata": {
        "colab": {
          "base_uri": "https://localhost:8080/"
        },
        "id": "nT67dlDX_7xr",
        "outputId": "e3632e74-7f1b-4060-df2b-d7d381f665f4"
      },
      "execution_count": 40,
      "outputs": [
        {
          "output_type": "execute_result",
          "data": {
            "text/plain": [
              "8"
            ]
          },
          "metadata": {},
          "execution_count": 40
        }
      ]
    },
    {
      "cell_type": "code",
      "source": [
        "arr[1:5]  #start at index 1 to index 4"
      ],
      "metadata": {
        "colab": {
          "base_uri": "https://localhost:8080/"
        },
        "id": "NJaObF2QAGj_",
        "outputId": "90c8b3ec-5161-4642-b992-8ec84d675ba5"
      },
      "execution_count": 41,
      "outputs": [
        {
          "output_type": "execute_result",
          "data": {
            "text/plain": [
              "array([1, 2, 3, 4])"
            ]
          },
          "metadata": {},
          "execution_count": 41
        }
      ]
    },
    {
      "cell_type": "code",
      "source": [
        "arr[0:5]   #start at index 0 to index 4"
      ],
      "metadata": {
        "colab": {
          "base_uri": "https://localhost:8080/"
        },
        "id": "ZJz_EUO9ASV0",
        "outputId": "c179d7b3-dba5-433b-c6ab-5293740d0865"
      },
      "execution_count": 42,
      "outputs": [
        {
          "output_type": "execute_result",
          "data": {
            "text/plain": [
              "array([0, 1, 2, 3, 4])"
            ]
          },
          "metadata": {},
          "execution_count": 42
        }
      ]
    },
    {
      "cell_type": "code",
      "source": [
        "arr[:6]    #Similar to arr[0:6] print everything till index 6 from start"
      ],
      "metadata": {
        "colab": {
          "base_uri": "https://localhost:8080/"
        },
        "id": "lHPMPHJKAibC",
        "outputId": "1a215484-9c42-4393-cfef-92706bc5fcbd"
      },
      "execution_count": 43,
      "outputs": [
        {
          "output_type": "execute_result",
          "data": {
            "text/plain": [
              "array([0, 1, 2, 3, 4, 5])"
            ]
          },
          "metadata": {},
          "execution_count": 43
        }
      ]
    },
    {
      "cell_type": "code",
      "source": [
        "arr[0:6]"
      ],
      "metadata": {
        "colab": {
          "base_uri": "https://localhost:8080/"
        },
        "id": "bWaU0xkvA1RT",
        "outputId": "571caa34-5a98-4275-bbe5-00d5f58d192e"
      },
      "execution_count": 44,
      "outputs": [
        {
          "output_type": "execute_result",
          "data": {
            "text/plain": [
              "array([0, 1, 2, 3, 4, 5])"
            ]
          },
          "metadata": {},
          "execution_count": 44
        }
      ]
    },
    {
      "cell_type": "code",
      "source": [
        "arr[5:]    #print everything beyond index 5"
      ],
      "metadata": {
        "colab": {
          "base_uri": "https://localhost:8080/"
        },
        "id": "vTUMbZtcA6Et",
        "outputId": "43fb944e-07fc-417f-c2a9-fbc9e787d179"
      },
      "execution_count": 45,
      "outputs": [
        {
          "output_type": "execute_result",
          "data": {
            "text/plain": [
              "array([ 5,  6,  7,  8,  9, 10])"
            ]
          },
          "metadata": {},
          "execution_count": 45
        }
      ]
    },
    {
      "cell_type": "code",
      "source": [
        "arr[0:5] = 100 #broadcast 100 to index 4\n",
        "\n",
        "arr"
      ],
      "metadata": {
        "colab": {
          "base_uri": "https://localhost:8080/"
        },
        "id": "XFH__DFCBSbR",
        "outputId": "8a451139-bf5a-43b1-fcba-e7abec396324"
      },
      "execution_count": 48,
      "outputs": [
        {
          "output_type": "execute_result",
          "data": {
            "text/plain": [
              "array([100, 100, 100, 100, 100,   5,   6,   7,   8,   9,  10])"
            ]
          },
          "metadata": {},
          "execution_count": 48
        }
      ]
    },
    {
      "cell_type": "code",
      "source": [
        "arr = np.arange(0,11)\n",
        "arr"
      ],
      "metadata": {
        "colab": {
          "base_uri": "https://localhost:8080/"
        },
        "id": "PMs4sz2FCDPQ",
        "outputId": "efcae1ed-19a6-4b9b-96b4-70fe72e641aa"
      },
      "execution_count": 50,
      "outputs": [
        {
          "output_type": "execute_result",
          "data": {
            "text/plain": [
              "array([ 0,  1,  2,  3,  4,  5,  6,  7,  8,  9, 10])"
            ]
          },
          "metadata": {},
          "execution_count": 50
        }
      ]
    },
    {
      "cell_type": "code",
      "source": [
        "slice_of_arr = arr[0:6]  #get that chunk of array\n",
        "\n",
        "slice_of_arr"
      ],
      "metadata": {
        "colab": {
          "base_uri": "https://localhost:8080/"
        },
        "id": "vktZP1hWCMqL",
        "outputId": "6116de9d-62c5-46d2-f614-6f2313275c83"
      },
      "execution_count": 52,
      "outputs": [
        {
          "output_type": "execute_result",
          "data": {
            "text/plain": [
              "array([0, 1, 2, 3, 4, 5])"
            ]
          },
          "metadata": {},
          "execution_count": 52
        }
      ]
    },
    {
      "cell_type": "code",
      "source": [
        "slice_of_arr[:] = 99 #grabbing everything we have and brodacasting 99 to it\n",
        "\n",
        "slice_of_arr"
      ],
      "metadata": {
        "colab": {
          "base_uri": "https://localhost:8080/"
        },
        "id": "raMzPhTRCbKq",
        "outputId": "5dc9a536-dfdc-491d-b1c7-c768e5eef79e"
      },
      "execution_count": 54,
      "outputs": [
        {
          "output_type": "execute_result",
          "data": {
            "text/plain": [
              "array([99, 99, 99, 99, 99, 99])"
            ]
          },
          "metadata": {},
          "execution_count": 54
        }
      ]
    },
    {
      "cell_type": "code",
      "source": [
        "arr   # If I call back the array the value 99 gets into the original one also"
      ],
      "metadata": {
        "colab": {
          "base_uri": "https://localhost:8080/"
        },
        "id": "x6uaaG7XC6gZ",
        "outputId": "e3ae49d1-05ca-462c-f1c7-5b37b031d349"
      },
      "execution_count": 55,
      "outputs": [
        {
          "output_type": "execute_result",
          "data": {
            "text/plain": [
              "array([99, 99, 99, 99, 99, 99,  6,  7,  8,  9, 10])"
            ]
          },
          "metadata": {},
          "execution_count": 55
        }
      ]
    },
    {
      "cell_type": "markdown",
      "source": [
        "data is not copied it is just a view to the original array. The reason why nummpy does that is to avoid memory issues with very large arrays meaning numpy is not automatically set copies for arrays. If you originally want a copy not a reference to original array we can specifically specify copy"
      ],
      "metadata": {
        "id": "I6s_k-1BDTEi"
      }
    },
    {
      "cell_type": "code",
      "source": [
        "arr_copy = arr.copy()"
      ],
      "metadata": {
        "id": "mSzQPgIdDM6Z"
      },
      "execution_count": 56,
      "outputs": []
    },
    {
      "cell_type": "code",
      "source": [
        "arr"
      ],
      "metadata": {
        "colab": {
          "base_uri": "https://localhost:8080/"
        },
        "id": "DZSGUPPbERk6",
        "outputId": "caa2b59b-bc44-4951-e07b-c4733552025d"
      },
      "execution_count": 59,
      "outputs": [
        {
          "output_type": "execute_result",
          "data": {
            "text/plain": [
              "array([99, 99, 99, 99, 99, 99,  6,  7,  8,  9, 10])"
            ]
          },
          "metadata": {},
          "execution_count": 59
        }
      ]
    },
    {
      "cell_type": "code",
      "source": [
        "arr_copy"
      ],
      "metadata": {
        "colab": {
          "base_uri": "https://localhost:8080/"
        },
        "id": "3xM7jGxzEbtT",
        "outputId": "3dd52ee9-2c58-4654-b4ce-72ce941c7126"
      },
      "execution_count": 58,
      "outputs": [
        {
          "output_type": "execute_result",
          "data": {
            "text/plain": [
              "array([99, 99, 99, 99, 99, 99,  6,  7,  8,  9, 10])"
            ]
          },
          "metadata": {},
          "execution_count": 58
        }
      ]
    },
    {
      "cell_type": "code",
      "source": [
        "arr_copy[:] = 100"
      ],
      "metadata": {
        "id": "cj-_2xeoEiQG"
      },
      "execution_count": 60,
      "outputs": []
    },
    {
      "cell_type": "code",
      "source": [
        "arr_copy"
      ],
      "metadata": {
        "colab": {
          "base_uri": "https://localhost:8080/"
        },
        "id": "gdFxfgjvEna9",
        "outputId": "6d256d44-a52b-41f8-baad-ae730e9d9a6c"
      },
      "execution_count": 61,
      "outputs": [
        {
          "output_type": "execute_result",
          "data": {
            "text/plain": [
              "array([100, 100, 100, 100, 100, 100, 100, 100, 100, 100, 100])"
            ]
          },
          "metadata": {},
          "execution_count": 61
        }
      ]
    },
    {
      "cell_type": "code",
      "source": [
        "arr"
      ],
      "metadata": {
        "colab": {
          "base_uri": "https://localhost:8080/"
        },
        "id": "ZhHXo9UfEpDR",
        "outputId": "54c5b123-fad2-4628-d811-6aad4e3e11f3"
      },
      "execution_count": 62,
      "outputs": [
        {
          "output_type": "execute_result",
          "data": {
            "text/plain": [
              "array([99, 99, 99, 99, 99, 99,  6,  7,  8,  9, 10])"
            ]
          },
          "metadata": {},
          "execution_count": 62
        }
      ]
    },
    {
      "cell_type": "markdown",
      "source": [
        "The original array is not affected "
      ],
      "metadata": {
        "id": "7C0jahQcErgE"
      }
    },
    {
      "cell_type": "markdown",
      "source": [
        "**Indexing in 2d Array**"
      ],
      "metadata": {
        "id": "te40SgPDE8kZ"
      }
    },
    {
      "cell_type": "code",
      "source": [
        "import numpy as np"
      ],
      "metadata": {
        "id": "No_PlyQDFCLp"
      },
      "execution_count": 63,
      "outputs": []
    },
    {
      "cell_type": "code",
      "source": [
        "arr_2d = np.array([[5,10,15], [20,25,30],[35,40,45]])\n",
        "\n",
        "arr_2d"
      ],
      "metadata": {
        "colab": {
          "base_uri": "https://localhost:8080/"
        },
        "id": "B7IuDVp-FEmp",
        "outputId": "10a31315-01cc-41ac-bc70-70bd88b6ae36"
      },
      "execution_count": 65,
      "outputs": [
        {
          "output_type": "execute_result",
          "data": {
            "text/plain": [
              "array([[ 5, 10, 15],\n",
              "       [20, 25, 30],\n",
              "       [35, 40, 45]])"
            ]
          },
          "metadata": {},
          "execution_count": 65
        }
      ]
    },
    {
      "cell_type": "code",
      "source": [
        "arr_2d[0][0] #Element in first row and first column"
      ],
      "metadata": {
        "colab": {
          "base_uri": "https://localhost:8080/"
        },
        "id": "E0_NspWbFlY8",
        "outputId": "af461ad5-1605-4310-ff59-c16ebd7b4fae"
      },
      "execution_count": 67,
      "outputs": [
        {
          "output_type": "execute_result",
          "data": {
            "text/plain": [
              "5"
            ]
          },
          "metadata": {},
          "execution_count": 67
        }
      ]
    },
    {
      "cell_type": "code",
      "source": [
        "arr_2d[0]"
      ],
      "metadata": {
        "colab": {
          "base_uri": "https://localhost:8080/"
        },
        "id": "qAVTQaOxFu9_",
        "outputId": "d4763caa-6506-4355-e54c-455f67c24c4f"
      },
      "execution_count": 68,
      "outputs": [
        {
          "output_type": "execute_result",
          "data": {
            "text/plain": [
              "array([ 5, 10, 15])"
            ]
          },
          "metadata": {},
          "execution_count": 68
        }
      ]
    },
    {
      "cell_type": "code",
      "source": [
        "arr_2d[2][1]"
      ],
      "metadata": {
        "colab": {
          "base_uri": "https://localhost:8080/"
        },
        "id": "-WxgNBnmF2CO",
        "outputId": "8cd359ae-393f-4d97-8290-c93bd37e8d9e"
      },
      "execution_count": 69,
      "outputs": [
        {
          "output_type": "execute_result",
          "data": {
            "text/plain": [
              "40"
            ]
          },
          "metadata": {},
          "execution_count": 69
        }
      ]
    },
    {
      "cell_type": "code",
      "source": [
        "arr_2d[2,1]"
      ],
      "metadata": {
        "colab": {
          "base_uri": "https://localhost:8080/"
        },
        "id": "jzq1qRzzGTKk",
        "outputId": "197b06e7-85bf-4008-b293-6ccc8a645b45"
      },
      "execution_count": 71,
      "outputs": [
        {
          "output_type": "execute_result",
          "data": {
            "text/plain": [
              "40"
            ]
          },
          "metadata": {},
          "execution_count": 71
        }
      ]
    },
    {
      "cell_type": "markdown",
      "source": [
        "Let's assume you don't want single element but want chunks of array for instance you want submatrices from this matrix"
      ],
      "metadata": {
        "id": "QtQFbHajGbuh"
      }
    },
    {
      "cell_type": "code",
      "source": [
        "arr_2d[:2,1:]"
      ],
      "metadata": {
        "colab": {
          "base_uri": "https://localhost:8080/"
        },
        "id": "w-30_YqQGYoh",
        "outputId": "1a0affb6-4238-43fb-eb3e-464598992da3"
      },
      "execution_count": 72,
      "outputs": [
        {
          "output_type": "execute_result",
          "data": {
            "text/plain": [
              "array([[10, 15],\n",
              "       [25, 30]])"
            ]
          },
          "metadata": {},
          "execution_count": 72
        }
      ]
    },
    {
      "cell_type": "code",
      "source": [
        "arr_2d[:2]"
      ],
      "metadata": {
        "colab": {
          "base_uri": "https://localhost:8080/"
        },
        "id": "crr68_STHU3y",
        "outputId": "1198243f-e8fe-4b1f-8b4c-a35de4132f05"
      },
      "execution_count": 73,
      "outputs": [
        {
          "output_type": "execute_result",
          "data": {
            "text/plain": [
              "array([[ 5, 10, 15],\n",
              "       [20, 25, 30]])"
            ]
          },
          "metadata": {},
          "execution_count": 73
        }
      ]
    },
    {
      "cell_type": "code",
      "source": [
        "arr_2d[1:,1:]"
      ],
      "metadata": {
        "colab": {
          "base_uri": "https://localhost:8080/"
        },
        "id": "xj0TJaKWH1jp",
        "outputId": "4043357a-a887-43a1-c2da-442f718a19e1"
      },
      "execution_count": 74,
      "outputs": [
        {
          "output_type": "execute_result",
          "data": {
            "text/plain": [
              "array([[25, 30],\n",
              "       [40, 45]])"
            ]
          },
          "metadata": {},
          "execution_count": 74
        }
      ]
    },
    {
      "cell_type": "markdown",
      "source": [
        "Conditional Selection from array"
      ],
      "metadata": {
        "id": "W0ZBLUxLH8RA"
      }
    },
    {
      "cell_type": "code",
      "source": [
        "arr= np.arange(1,11)\n",
        "\n",
        "arr"
      ],
      "metadata": {
        "colab": {
          "base_uri": "https://localhost:8080/"
        },
        "id": "SxeICisfICsy",
        "outputId": "02481699-11d4-462b-d2fd-ba8b8536a6df"
      },
      "execution_count": 76,
      "outputs": [
        {
          "output_type": "execute_result",
          "data": {
            "text/plain": [
              "array([ 1,  2,  3,  4,  5,  6,  7,  8,  9, 10])"
            ]
          },
          "metadata": {},
          "execution_count": 76
        }
      ]
    },
    {
      "cell_type": "code",
      "source": [
        "arr>5    #Gets true and false values based on the comparison"
      ],
      "metadata": {
        "colab": {
          "base_uri": "https://localhost:8080/"
        },
        "id": "A5ip3uhwIHZE",
        "outputId": "5bcea152-358d-40b3-9375-a27a382666b6"
      },
      "execution_count": 77,
      "outputs": [
        {
          "output_type": "execute_result",
          "data": {
            "text/plain": [
              "array([False, False, False, False, False,  True,  True,  True,  True,\n",
              "        True])"
            ]
          },
          "metadata": {},
          "execution_count": 77
        }
      ]
    },
    {
      "cell_type": "code",
      "source": [
        "bool_arr = arr>5\n",
        "\n",
        "bool_arr"
      ],
      "metadata": {
        "colab": {
          "base_uri": "https://localhost:8080/"
        },
        "id": "4x0phrZ4Iarl",
        "outputId": "6c3ab32a-e874-418a-e599-618e1632d516"
      },
      "execution_count": 79,
      "outputs": [
        {
          "output_type": "execute_result",
          "data": {
            "text/plain": [
              "array([False, False, False, False, False,  True,  True,  True,  True,\n",
              "        True])"
            ]
          },
          "metadata": {},
          "execution_count": 79
        }
      ]
    },
    {
      "cell_type": "code",
      "source": [
        "arr[bool_arr]   #gets the values where boolean values are true"
      ],
      "metadata": {
        "colab": {
          "base_uri": "https://localhost:8080/"
        },
        "id": "-dp3BnrhIpWw",
        "outputId": "591028ca-098b-4bf6-8589-d4ad0cb6cab9"
      },
      "execution_count": 80,
      "outputs": [
        {
          "output_type": "execute_result",
          "data": {
            "text/plain": [
              "array([ 6,  7,  8,  9, 10])"
            ]
          },
          "metadata": {},
          "execution_count": 80
        }
      ]
    },
    {
      "cell_type": "code",
      "source": [
        "arr[arr>5]"
      ],
      "metadata": {
        "colab": {
          "base_uri": "https://localhost:8080/"
        },
        "id": "DU6iT_EoJCzT",
        "outputId": "b5baf2eb-7fc9-4e66-aee9-f5d4219ca41a"
      },
      "execution_count": 81,
      "outputs": [
        {
          "output_type": "execute_result",
          "data": {
            "text/plain": [
              "array([ 6,  7,  8,  9, 10])"
            ]
          },
          "metadata": {},
          "execution_count": 81
        }
      ]
    },
    {
      "cell_type": "code",
      "source": [
        "arr[arr<3]"
      ],
      "metadata": {
        "colab": {
          "base_uri": "https://localhost:8080/"
        },
        "id": "1dsU8_RCJFUr",
        "outputId": "d95993fa-3a69-426f-aac6-ce6defc6180f"
      },
      "execution_count": 82,
      "outputs": [
        {
          "output_type": "execute_result",
          "data": {
            "text/plain": [
              "array([1, 2])"
            ]
          },
          "metadata": {},
          "execution_count": 82
        }
      ]
    },
    {
      "cell_type": "code",
      "source": [
        "arr_2d = np.arange(50).reshape(5,10)\n",
        "\n",
        "arr_2d"
      ],
      "metadata": {
        "colab": {
          "base_uri": "https://localhost:8080/"
        },
        "id": "hHFWZW9-JYUx",
        "outputId": "6672c86d-520c-4810-8ee8-8195fcad6216"
      },
      "execution_count": 85,
      "outputs": [
        {
          "output_type": "execute_result",
          "data": {
            "text/plain": [
              "array([[ 0,  1,  2,  3,  4,  5,  6,  7,  8,  9],\n",
              "       [10, 11, 12, 13, 14, 15, 16, 17, 18, 19],\n",
              "       [20, 21, 22, 23, 24, 25, 26, 27, 28, 29],\n",
              "       [30, 31, 32, 33, 34, 35, 36, 37, 38, 39],\n",
              "       [40, 41, 42, 43, 44, 45, 46, 47, 48, 49]])"
            ]
          },
          "metadata": {},
          "execution_count": 85
        }
      ]
    },
    {
      "cell_type": "code",
      "source": [
        "arr_2d[1:2,3:5]"
      ],
      "metadata": {
        "colab": {
          "base_uri": "https://localhost:8080/"
        },
        "id": "FPPb4NrLJkoZ",
        "outputId": "5b9e4f31-73a5-4c33-bc80-a2adda600114"
      },
      "execution_count": 87,
      "outputs": [
        {
          "output_type": "execute_result",
          "data": {
            "text/plain": [
              "array([[13, 14]])"
            ]
          },
          "metadata": {},
          "execution_count": 87
        }
      ]
    },
    {
      "cell_type": "markdown",
      "source": [
        "\n",
        "# Numpy Operations\n",
        "1. Array with Array\n",
        "2. Array with scalars\n",
        "3. Universal Array functions"
      ],
      "metadata": {
        "id": "86kpED3aNL1c"
      }
    },
    {
      "cell_type": "code",
      "source": [
        "import numpy as np"
      ],
      "metadata": {
        "id": "fYgBH5wRNfkB"
      },
      "execution_count": 88,
      "outputs": []
    },
    {
      "cell_type": "code",
      "source": [
        "arr = np.arange(0,11)\n",
        "\n",
        "arr"
      ],
      "metadata": {
        "colab": {
          "base_uri": "https://localhost:8080/"
        },
        "id": "Jp4GMbZiNmkg",
        "outputId": "3f90e8ee-a12f-4467-ce2c-dae21de80caa"
      },
      "execution_count": 89,
      "outputs": [
        {
          "output_type": "execute_result",
          "data": {
            "text/plain": [
              "array([ 0,  1,  2,  3,  4,  5,  6,  7,  8,  9, 10])"
            ]
          },
          "metadata": {},
          "execution_count": 89
        }
      ]
    },
    {
      "cell_type": "code",
      "source": [
        "arr + arr"
      ],
      "metadata": {
        "colab": {
          "base_uri": "https://localhost:8080/"
        },
        "id": "q0XnGOdyNrmb",
        "outputId": "d8dbd45b-6e1b-4568-f6a2-8023e54f74cc"
      },
      "execution_count": 90,
      "outputs": [
        {
          "output_type": "execute_result",
          "data": {
            "text/plain": [
              "array([ 0,  2,  4,  6,  8, 10, 12, 14, 16, 18, 20])"
            ]
          },
          "metadata": {},
          "execution_count": 90
        }
      ]
    },
    {
      "cell_type": "code",
      "source": [
        "arr-arr"
      ],
      "metadata": {
        "colab": {
          "base_uri": "https://localhost:8080/"
        },
        "id": "QLasdW1ANwI1",
        "outputId": "a91fdc98-62d8-43c3-de6a-ce764f278ba1"
      },
      "execution_count": 91,
      "outputs": [
        {
          "output_type": "execute_result",
          "data": {
            "text/plain": [
              "array([0, 0, 0, 0, 0, 0, 0, 0, 0, 0, 0])"
            ]
          },
          "metadata": {},
          "execution_count": 91
        }
      ]
    },
    {
      "cell_type": "code",
      "source": [
        "arr*arr"
      ],
      "metadata": {
        "colab": {
          "base_uri": "https://localhost:8080/"
        },
        "id": "ZnMoBwq5N0xX",
        "outputId": "e8acaf2c-e5e2-4034-d0cd-e6fa68c75d51"
      },
      "execution_count": 92,
      "outputs": [
        {
          "output_type": "execute_result",
          "data": {
            "text/plain": [
              "array([  0,   1,   4,   9,  16,  25,  36,  49,  64,  81, 100])"
            ]
          },
          "metadata": {},
          "execution_count": 92
        }
      ]
    },
    {
      "cell_type": "code",
      "source": [
        "arr +100 #add 100 to every element of Array"
      ],
      "metadata": {
        "colab": {
          "base_uri": "https://localhost:8080/"
        },
        "id": "pgt2ulkYN9Qg",
        "outputId": "1b0f407d-0383-4534-8786-c47cfec9f8a7"
      },
      "execution_count": 93,
      "outputs": [
        {
          "output_type": "execute_result",
          "data": {
            "text/plain": [
              "array([100, 101, 102, 103, 104, 105, 106, 107, 108, 109, 110])"
            ]
          },
          "metadata": {},
          "execution_count": 93
        }
      ]
    },
    {
      "cell_type": "code",
      "source": [
        "arr*100  #multiply 100 to every element of Array"
      ],
      "metadata": {
        "colab": {
          "base_uri": "https://localhost:8080/"
        },
        "id": "x_4ThYWLOFD2",
        "outputId": "cb46c48c-d572-4714-a5e4-9ba47a1ec851"
      },
      "execution_count": 94,
      "outputs": [
        {
          "output_type": "execute_result",
          "data": {
            "text/plain": [
              "array([   0,  100,  200,  300,  400,  500,  600,  700,  800,  900, 1000])"
            ]
          },
          "metadata": {},
          "execution_count": 94
        }
      ]
    },
    {
      "cell_type": "code",
      "source": [
        "0/0"
      ],
      "metadata": {
        "colab": {
          "base_uri": "https://localhost:8080/",
          "height": 165
        },
        "id": "u_ev3Dj3OWjY",
        "outputId": "356b8df8-c829-4807-fc3e-8eb5877e13e9"
      },
      "execution_count": 95,
      "outputs": [
        {
          "output_type": "error",
          "ename": "ZeroDivisionError",
          "evalue": "ignored",
          "traceback": [
            "\u001b[0;31m---------------------------------------------------------------------------\u001b[0m",
            "\u001b[0;31mZeroDivisionError\u001b[0m                         Traceback (most recent call last)",
            "\u001b[0;32m<ipython-input-95-9ab73e148374>\u001b[0m in \u001b[0;36m<module>\u001b[0;34m()\u001b[0m\n\u001b[0;32m----> 1\u001b[0;31m \u001b[0;36m0\u001b[0m\u001b[0;34m/\u001b[0m\u001b[0;36m0\u001b[0m\u001b[0;34m\u001b[0m\u001b[0;34m\u001b[0m\u001b[0m\n\u001b[0m",
            "\u001b[0;31mZeroDivisionError\u001b[0m: division by zero"
          ]
        }
      ]
    },
    {
      "cell_type": "code",
      "source": [
        "arr/arr  #since the first element of array is 0 it becomes 0/0 in case of nunmpy it throws a warning not an error"
      ],
      "metadata": {
        "colab": {
          "base_uri": "https://localhost:8080/"
        },
        "id": "3VXbBstTOZs2",
        "outputId": "767a9bf5-fa91-4e51-df5f-a4e76badaad9"
      },
      "execution_count": 97,
      "outputs": [
        {
          "output_type": "stream",
          "name": "stderr",
          "text": [
            "/usr/local/lib/python3.7/dist-packages/ipykernel_launcher.py:1: RuntimeWarning: invalid value encountered in true_divide\n",
            "  \"\"\"Entry point for launching an IPython kernel.\n"
          ]
        },
        {
          "output_type": "execute_result",
          "data": {
            "text/plain": [
              "array([nan,  1.,  1.,  1.,  1.,  1.,  1.,  1.,  1.,  1.,  1.])"
            ]
          },
          "metadata": {},
          "execution_count": 97
        }
      ]
    },
    {
      "cell_type": "code",
      "source": [
        "1/arr"
      ],
      "metadata": {
        "colab": {
          "base_uri": "https://localhost:8080/"
        },
        "id": "OxKVldLcO0dP",
        "outputId": "2875d733-79b7-456a-bf5c-2d7a024a163a"
      },
      "execution_count": 98,
      "outputs": [
        {
          "output_type": "stream",
          "name": "stderr",
          "text": [
            "/usr/local/lib/python3.7/dist-packages/ipykernel_launcher.py:1: RuntimeWarning: divide by zero encountered in true_divide\n",
            "  \"\"\"Entry point for launching an IPython kernel.\n"
          ]
        },
        {
          "output_type": "execute_result",
          "data": {
            "text/plain": [
              "array([       inf, 1.        , 0.5       , 0.33333333, 0.25      ,\n",
              "       0.2       , 0.16666667, 0.14285714, 0.125     , 0.11111111,\n",
              "       0.1       ])"
            ]
          },
          "metadata": {},
          "execution_count": 98
        }
      ]
    },
    {
      "cell_type": "code",
      "source": [
        "arr**2            #Exponents"
      ],
      "metadata": {
        "colab": {
          "base_uri": "https://localhost:8080/"
        },
        "id": "QStRlY9zO6jM",
        "outputId": "c3c5f167-c4c9-4b8b-86aa-27265e6fb047"
      },
      "execution_count": 99,
      "outputs": [
        {
          "output_type": "execute_result",
          "data": {
            "text/plain": [
              "array([  0,   1,   4,   9,  16,  25,  36,  49,  64,  81, 100])"
            ]
          },
          "metadata": {},
          "execution_count": 99
        }
      ]
    },
    {
      "cell_type": "markdown",
      "source": [
        "**Universal Array Function**"
      ],
      "metadata": {
        "id": "QAL8fhpqPFKJ"
      }
    },
    {
      "cell_type": "code",
      "source": [
        "np.sqrt(arr)"
      ],
      "metadata": {
        "colab": {
          "base_uri": "https://localhost:8080/"
        },
        "id": "-YCQhCNxPJio",
        "outputId": "10c9426f-8096-44d1-d0f7-9668a0128d5d"
      },
      "execution_count": 100,
      "outputs": [
        {
          "output_type": "execute_result",
          "data": {
            "text/plain": [
              "array([0.        , 1.        , 1.41421356, 1.73205081, 2.        ,\n",
              "       2.23606798, 2.44948974, 2.64575131, 2.82842712, 3.        ,\n",
              "       3.16227766])"
            ]
          },
          "metadata": {},
          "execution_count": 100
        }
      ]
    },
    {
      "cell_type": "code",
      "source": [
        "np.exp(arr)"
      ],
      "metadata": {
        "colab": {
          "base_uri": "https://localhost:8080/"
        },
        "id": "ub5ue60dPMby",
        "outputId": "c867df00-1314-4d8c-c307-c983158166e3"
      },
      "execution_count": 101,
      "outputs": [
        {
          "output_type": "execute_result",
          "data": {
            "text/plain": [
              "array([1.00000000e+00, 2.71828183e+00, 7.38905610e+00, 2.00855369e+01,\n",
              "       5.45981500e+01, 1.48413159e+02, 4.03428793e+02, 1.09663316e+03,\n",
              "       2.98095799e+03, 8.10308393e+03, 2.20264658e+04])"
            ]
          },
          "metadata": {},
          "execution_count": 101
        }
      ]
    },
    {
      "cell_type": "code",
      "source": [
        "np.max(arr)"
      ],
      "metadata": {
        "colab": {
          "base_uri": "https://localhost:8080/"
        },
        "id": "9UvWB1dTPQYq",
        "outputId": "1daac081-be61-49b7-b8fa-3030b1759f6c"
      },
      "execution_count": 103,
      "outputs": [
        {
          "output_type": "execute_result",
          "data": {
            "text/plain": [
              "10"
            ]
          },
          "metadata": {},
          "execution_count": 103
        }
      ]
    },
    {
      "cell_type": "code",
      "source": [
        "arr.max()"
      ],
      "metadata": {
        "colab": {
          "base_uri": "https://localhost:8080/"
        },
        "id": "DQ68BSJ-PV2R",
        "outputId": "02795440-425c-4dc3-f170-68a5c1a89a54"
      },
      "execution_count": 104,
      "outputs": [
        {
          "output_type": "execute_result",
          "data": {
            "text/plain": [
              "10"
            ]
          },
          "metadata": {},
          "execution_count": 104
        }
      ]
    },
    {
      "cell_type": "code",
      "source": [
        "np.sin(arr)"
      ],
      "metadata": {
        "colab": {
          "base_uri": "https://localhost:8080/"
        },
        "id": "2tcxuT39PYEv",
        "outputId": "1ed2e82c-9aee-449f-8ade-eb1f9959989a"
      },
      "execution_count": 105,
      "outputs": [
        {
          "output_type": "execute_result",
          "data": {
            "text/plain": [
              "array([ 0.        ,  0.84147098,  0.90929743,  0.14112001, -0.7568025 ,\n",
              "       -0.95892427, -0.2794155 ,  0.6569866 ,  0.98935825,  0.41211849,\n",
              "       -0.54402111])"
            ]
          },
          "metadata": {},
          "execution_count": 105
        }
      ]
    },
    {
      "cell_type": "code",
      "source": [
        "np.log(arr)"
      ],
      "metadata": {
        "colab": {
          "base_uri": "https://localhost:8080/"
        },
        "id": "oigRbRzgPg_A",
        "outputId": "94919b90-2e5c-4a63-dd14-d6ab945bf7e3"
      },
      "execution_count": 106,
      "outputs": [
        {
          "output_type": "stream",
          "name": "stderr",
          "text": [
            "/usr/local/lib/python3.7/dist-packages/ipykernel_launcher.py:1: RuntimeWarning: divide by zero encountered in log\n",
            "  \"\"\"Entry point for launching an IPython kernel.\n"
          ]
        },
        {
          "output_type": "execute_result",
          "data": {
            "text/plain": [
              "array([      -inf, 0.        , 0.69314718, 1.09861229, 1.38629436,\n",
              "       1.60943791, 1.79175947, 1.94591015, 2.07944154, 2.19722458,\n",
              "       2.30258509])"
            ]
          },
          "metadata": {},
          "execution_count": 106
        }
      ]
    }
  ]
}